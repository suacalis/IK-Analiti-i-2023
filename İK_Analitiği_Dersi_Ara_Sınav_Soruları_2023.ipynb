{
  "nbformat": 4,
  "nbformat_minor": 0,
  "metadata": {
    "colab": {
      "provenance": []
    },
    "kernelspec": {
      "name": "python3",
      "display_name": "Python 3"
    },
    "language_info": {
      "name": "python"
    }
  },
  "cells": [
    {
      "cell_type": "markdown",
      "source": [
        "<h1>İK Analitiği Dersi Ara Sınav Soruları</h1>"
      ],
      "metadata": {
        "id": "1kyYS5Y--YVK"
      }
    },
    {
      "cell_type": "markdown",
      "source": [
        "Dosya Adını Adınız_Soyadınız_Numaranız Şeklinde isimlendirmeniz gerekmektedir. \n",
        "\n",
        "Dosyayı Adınız_Soyadınız_Numaranız.ipynb olarak indirerek zip'lemeniz ve\n",
        "SABİS üzerinden yüklemeniz gerekmektedir."
      ],
      "metadata": {
        "id": "t1ahdqgBCGpZ"
      }
    },
    {
      "cell_type": "markdown",
      "source": [
        "Adınız Soyadınız: "
      ],
      "metadata": {
        "id": "tf7fwR-59iX3"
      }
    },
    {
      "cell_type": "markdown",
      "source": [
        "Numaranız:"
      ],
      "metadata": {
        "id": "0-PDXgds9m2U"
      }
    },
    {
      "cell_type": "markdown",
      "source": [
        "Öğretim Türünüz: ( )1 ( )2 ( )Uzaktan\n",
        "\n",
        "ilgili parantez arasınına x yazınız.  "
      ],
      "metadata": {
        "id": "XamfymZy-nIK"
      }
    },
    {
      "cell_type": "code",
      "source": [
        "#Soru 1 (5 Puan)\n",
        "#numpy, pandas, matplotlib ve seaborn kütüphanelerini yükleyiniz\n"
      ],
      "metadata": {
        "id": "Hx-KIcbl-t9z"
      },
      "execution_count": 1,
      "outputs": []
    },
    {
      "cell_type": "code",
      "source": [
        "#Soru 2 (5 Puan)\n",
        "# https://raw.githubusercontent.com/suacalis/IK-Analitigi-2023/main/ikveri2023.csv\n",
        "#Yukarıda yer alan adresdeki csv dosyasını df adını vererek çağırınız.\n"
      ],
      "metadata": {
        "id": "Y_DUStsX_ABJ"
      },
      "execution_count": 2,
      "outputs": []
    },
    {
      "cell_type": "code",
      "source": [
        "#Soru 3 (2,5 Puan)\n",
        "#Numaranızın son iki rakamını toplayınız. Bulduğunuz rakam kadar ver setinizin enbaşındaki satırları görüntüleyiniz. \n"
      ],
      "metadata": {
        "id": "eErbG9poAB72"
      },
      "execution_count": 3,
      "outputs": []
    },
    {
      "cell_type": "code",
      "source": [
        "#Soru 4 (2,5 Puan)\n",
        "#Numaranızın son iki rakamını toplayınız. Bulduğunuz rakam kadar veri setinin ensonundaki satırları görüntüleyiniz. \n"
      ],
      "metadata": {
        "id": "jhrtB-0uAjiu"
      },
      "execution_count": 4,
      "outputs": []
    },
    {
      "cell_type": "code",
      "source": [
        "#Soru 5 (2,5 Puan)\n",
        "#Numaranızın son iki rakamını toplayınız. Bulduğunuz rakam kadar veri setinden tesadüfi örneklem (sample) satırı çağırınız. \n"
      ],
      "metadata": {
        "id": "ENXLhN5vBuof"
      },
      "execution_count": 5,
      "outputs": []
    },
    {
      "cell_type": "code",
      "source": [
        "#Soru 6 (2,5 Puan)\n",
        "#Veri setinin genel bilgilerini gösteriniz\n",
        "#Kaç tane karakter, tam sayı ve ondalıklı sayıya sahip sütun görüyorsunuz.\n"
      ],
      "metadata": {
        "id": "pFw6M2_DCNhU"
      },
      "execution_count": 6,
      "outputs": []
    },
    {
      "cell_type": "code",
      "source": [
        "#Soru 7 (2,5 Puan)\n",
        "#Sahip olduğunuz veri setindeki sütunların başlıklarını gösteriniz\n"
      ],
      "metadata": {
        "id": "otsphi7RPOPP"
      },
      "execution_count": 7,
      "outputs": []
    },
    {
      "cell_type": "code",
      "source": [
        "#Soru 8 (5 Puan)\n",
        "#Veri setindeki istatistiksel özetini görüntüleyiniz\n"
      ],
      "metadata": {
        "id": "rGXFD5vgQpVW"
      },
      "execution_count": 8,
      "outputs": []
    },
    {
      "cell_type": "code",
      "source": [
        "#Soru 9 (2,5 Puan)\n",
        "#Veri setindeki Aylık Ücret sütununun istatistiksel özetini görüntüleyiniz\n"
      ],
      "metadata": {
        "id": "FUwPKAy-QvEm"
      },
      "execution_count": 9,
      "outputs": []
    },
    {
      "cell_type": "code",
      "source": [
        "#Soru 10 (2,5 Puan)\n",
        "#Veri setindeki İkramiye sütununun ortalamasını görüntüleyiniz\n"
      ],
      "metadata": {
        "id": "fxCHfR3zQwrA"
      },
      "execution_count": 10,
      "outputs": []
    },
    {
      "cell_type": "code",
      "source": [
        "#Soru 11 (2,5 Puan)\n",
        "#Veri setindeki Mesai/Ücret+Mesai sütununun standart sapmasını görüntüleyiniz\n"
      ],
      "metadata": {
        "id": "VJALdwqCQyfL"
      },
      "execution_count": 11,
      "outputs": []
    },
    {
      "cell_type": "code",
      "source": [
        "#Soru 12 (2,5 Puan)\n",
        "#Veri setindeki Aylık Ücret sütununun medyanını görüntüleyiniz\n"
      ],
      "metadata": {
        "id": "4oaKr2tCQ0V0"
      },
      "execution_count": 12,
      "outputs": []
    },
    {
      "cell_type": "code",
      "source": [
        "#Soru 13 (2,5 Puan)\n",
        "#Veri setinin Ad ve soyad sütununu kullanarak A-Z ye sıralayınız\n"
      ],
      "metadata": {
        "id": "KeOWh63iQ2IQ"
      },
      "execution_count": 13,
      "outputs": []
    },
    {
      "cell_type": "code",
      "source": [
        "#Soru 14 (2,5 Puan)\n",
        "#Veri setinin Ad ve soyad sütununu kullanarak Z-A ya sıralayınız\n"
      ],
      "metadata": {
        "id": "_VOaybGHQ37q"
      },
      "execution_count": 14,
      "outputs": []
    },
    {
      "cell_type": "code",
      "source": [
        "#Soru 15 (2,5 Puan)\n",
        "#Veri setinin Aylık Ücret sütununu kullanarak küçükten büyüğe kadar sıralayınız\n",
        "\n"
      ],
      "metadata": {
        "id": "eNTOeIfvQ6sf"
      },
      "execution_count": 15,
      "outputs": []
    },
    {
      "cell_type": "code",
      "source": [
        "#Soru 16 (2,5 Puan)\n",
        "#Veri setinin Aylık Ücret sütununu kullanarak büyükten küçüğe kadar sıralayınız\n"
      ],
      "metadata": {
        "id": "IQysqGd6Q8mq"
      },
      "execution_count": 16,
      "outputs": []
    },
    {
      "cell_type": "code",
      "source": [
        "#Soru 17 (5 Puan)\n",
        "#Veri setinin Aylık Ücret sütununu kullanarak Aylık Ücreti 50000 TL. ve üzerinde olanları gösteriniz.\n"
      ],
      "metadata": {
        "id": "byYcLEG-Q-VA"
      },
      "execution_count": 17,
      "outputs": []
    },
    {
      "cell_type": "code",
      "source": [
        "#Soru 18 (2,5 Puan)\n",
        "#Numaranızın son iki rakamını toplayınız. Veri setinin İkramiye sütununu kullanarak bulduğunuz rakam kadar enbüyük değerli satırları gösteriniz.\n",
        "\n"
      ],
      "metadata": {
        "id": "MGcnjnEkRA6l"
      },
      "execution_count": 18,
      "outputs": []
    },
    {
      "cell_type": "code",
      "source": [
        "#Soru 19 (2,5 Puan)\n",
        "#Numaranızın son iki rakamını toplayınız. Veri setinin İkramiye sütununu kullanarak bulduğunuz rakam kadar enküçük değerli satırları gösteriniz.\n"
      ],
      "metadata": {
        "id": "NioKKFIlRDEO"
      },
      "execution_count": 19,
      "outputs": []
    },
    {
      "cell_type": "code",
      "source": [
        "#Soru 20 (2,5 Puan)\n",
        "#Cinsiyet sütununu kullanarak E (Erkek) ve K (Kadın) sayısını saydırınız.\n"
      ],
      "metadata": {
        "id": "7dspHbpvRFKG"
      },
      "execution_count": 20,
      "outputs": []
    },
    {
      "cell_type": "code",
      "source": [
        "#Soru 21 (2,5 Puan)\n",
        "#Cinsiyet sütununu kullanarak E (Erkek) ve K (Kadın) sayısının yüzdeliğini gösteriniz.\n"
      ],
      "metadata": {
        "id": "UmGF7Bz7RHg4"
      },
      "execution_count": 21,
      "outputs": []
    },
    {
      "cell_type": "code",
      "source": [
        "#Soru 22 (2,5 Puan)\n",
        "#Cinsiyet sütununu kullanarak E (Erkek) ve K (Kadın) sayısını saydırınız ve pandas ile dikey çubuk grafiği olarak gösteriniz.\n"
      ],
      "metadata": {
        "id": "sOBzJb7XRJVp"
      },
      "execution_count": 22,
      "outputs": []
    },
    {
      "cell_type": "code",
      "source": [
        "#Soru 23 (2,5 Puan)\n",
        "#Departman sütununun verilerini saydırınız, pandas ile yatay çubuk grafiği olarak gösteriniz.\n"
      ],
      "metadata": {
        "id": "2PLCc-BsRLU4"
      },
      "execution_count": 23,
      "outputs": []
    },
    {
      "cell_type": "code",
      "source": [
        "#Soru 24 (2,5 Puan)\n",
        "#Ücret + Mesai sütununun verilerini seaborn ile dağılım (histogram) grafiği olarak gösteriniz.\n"
      ],
      "metadata": {
        "id": "q2vg6zZCRNOa"
      },
      "execution_count": 24,
      "outputs": []
    },
    {
      "cell_type": "code",
      "source": [
        "#Soru 25 (5 Puan)\n",
        "#Aylık Ücret sütununu kullanarak seaborn kullanarak dikey kutu (boxplot) grafiğini gösteriniz.\n"
      ],
      "metadata": {
        "id": "uXXCmkuWRPOB"
      },
      "execution_count": 25,
      "outputs": []
    },
    {
      "cell_type": "code",
      "source": [
        "#Soru 26 (5 Puan)\n",
        "#Cinsiyet ve Aylık Ücret sütunlarını seaborn kullanarak kutu (boxplot) grafiğini gösteriniz.\n"
      ],
      "metadata": {
        "id": "PSK1SAbFjoqv"
      },
      "execution_count": 26,
      "outputs": []
    },
    {
      "cell_type": "code",
      "source": [
        "#Soru 27 (5 Puan)\n",
        "#Departman ve Ücret + Mesai sütunlarını seaborn kullanarak kutu (boxplot) grafiğini gösteriniz.\n"
      ],
      "metadata": {
        "id": "6uNDVSRTjqrn"
      },
      "execution_count": 27,
      "outputs": []
    },
    {
      "cell_type": "code",
      "source": [
        "#Soru 28 (5 Puan)\n",
        "#Mezuniyet ve Ücret + Mesai sütunlarını Cinsiyet verisine gmre seaborn kullanarak saçılım (scatter) grafiğini gösteriniz.\n"
      ],
      "metadata": {
        "id": "YL85aS1PjscW"
      },
      "execution_count": 28,
      "outputs": []
    },
    {
      "cell_type": "code",
      "source": [
        "#Soru 29 (5 Puan)\n",
        "#Veri setinin korelasyonunu (corr) gösteriniz.\n"
      ],
      "metadata": {
        "id": "u0twUdn1j6JI"
      },
      "execution_count": 29,
      "outputs": []
    },
    {
      "cell_type": "code",
      "source": [
        "#Soru 30 (5 Puan)\n",
        "#Veri setinin korelasyon sonuçlarını ısı grafiğinin üzerinde (heatmap) değerleri olacak şekilde gösteriniz.\n",
        "\n"
      ],
      "metadata": {
        "id": "zggTTTNWj8K4"
      },
      "execution_count": 30,
      "outputs": []
    }
  ]
}