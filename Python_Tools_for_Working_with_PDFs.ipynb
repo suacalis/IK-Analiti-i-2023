{
  "nbformat": 4,
  "nbformat_minor": 0,
  "metadata": {
    "colab": {
      "provenance": [],
      "mount_file_id": "1Z5Ggz_RSFu2wuZA93nMTucqsF9Xsd8uL",
      "authorship_tag": "ABX9TyNVYwbe4QWCa2ncTi+jTBbb",
      "include_colab_link": true
    },
    "kernelspec": {
      "name": "python3",
      "display_name": "Python 3"
    },
    "language_info": {
      "name": "python"
    }
  },
  "cells": [
    {
      "cell_type": "markdown",
      "metadata": {
        "id": "view-in-github",
        "colab_type": "text"
      },
      "source": [
        "<a href=\"https://colab.research.google.com/github/suacalis/IK-Analitigi-2023/blob/main/Python_Tools_for_Working_with_PDFs.ipynb\" target=\"_parent\"><img src=\"https://colab.research.google.com/assets/colab-badge.svg\" alt=\"Open In Colab\"/></a>"
      ]
    },
    {
      "cell_type": "code",
      "execution_count": null,
      "metadata": {
        "id": "7oq5aEcGjEEt"
      },
      "outputs": [],
      "source": [
        "import PyPDF2\n",
        "\n",
        "def extract_text_from_pdf(file_path):\n",
        "    with open(file_path, 'rb') as file:\n",
        "        reader = PyPDF2.PdfReader(file)\n",
        "        text = ''\n",
        "        for page_num in range(len(reader.pages)):\n",
        "            text += reader.pages[page_num].extract_text()\n",
        "        return text\n",
        "\n",
        "\n",
        "# Usage\n",
        "file_path = 'sample.pdf'\n",
        "print(extract_text_from_pdf(file_path))"
      ]
    },
    {
      "cell_type": "code",
      "source": [
        "from pdfminer.high_level import extract_text\n",
        "\n",
        "from pdfminer.pdfparser import PDFParser\n",
        "from pdfminer.pdfdocument import PDFDocument\n",
        "\n",
        "def extract_text_with_pdfminer(file_path):\n",
        "    return extract_text(file_path)\n",
        "\n",
        "def extract_metadata(file_path):\n",
        "    with open(file_path, 'rb') as file:\n",
        "        parser = PDFParser(file)\n",
        "        doc = PDFDocument(parser)\n",
        "        metadata = doc.info[0]\n",
        "    return metadata\n",
        "\n",
        "\n",
        "# Usage\n",
        "file_path = 'sample.pdf'\n",
        "print(extract_text_with_pdfminer(file_path))\n",
        "print(extract_metadata(file_path))"
      ],
      "metadata": {
        "id": "QTDJqvdNjMK_"
      },
      "execution_count": null,
      "outputs": []
    },
    {
      "cell_type": "code",
      "source": [
        "from reportlab.lib.pagesizes import letter\n",
        "\n",
        "from reportlab.pdfgen import canvas\n",
        "\n",
        "def create_pdf(file_path):\n",
        "    c = canvas.Canvas(file_path, pagesize=letter)\n",
        "    c.drawString(100, 750, \"Hello from Encord!\")\n",
        "    c.save()\n",
        "\n",
        "\n",
        "# Usage\n",
        "create_pdf(\"test.pdf\")"
      ],
      "metadata": {
        "id": "nyEeIf-LjTVS"
      },
      "execution_count": null,
      "outputs": []
    },
    {
      "cell_type": "code",
      "source": [
        "from PyPDF2 import PdfMerger\n",
        "\n",
        "def merge_pdfs(pdf_list, output_path):\n",
        "    merger = PdfMerger()\n",
        "    for pdf in pdf_list:\n",
        "        merger.append(pdf)\n",
        "    merger.write(output_path)\n",
        "    merger.close()\n",
        "\n",
        "# Usage\n",
        "pdf_list = ['file1.pdf', 'file2.pdf']\n",
        "merge_pdfs(pdf_list, 'merged.pdf')"
      ],
      "metadata": {
        "id": "NUUbVCQPjYPF"
      },
      "execution_count": null,
      "outputs": []
    },
    {
      "cell_type": "code",
      "source": [
        "from PyPDF2 import PdfReader, PdfWriter\n",
        "\n",
        "def split_pdf(input_path, start_page, end_page, output_path):\n",
        "    reader = PdfReader(input_path)\n",
        "    writer = PdfWriter()\n",
        "    for page_num in range(start_page, end_page):\n",
        "        writer.add_page(reader.pages[page_num])\n",
        "    with open(output_path, 'wb') as output_pdf:\n",
        "        writer.write(output_pdf)\n",
        "\n",
        "# Usage\n",
        "split_pdf('merged.pdf', 0, 2, 'split_output.pdf')"
      ],
      "metadata": {
        "id": "ZLB7XedMjc8y"
      },
      "execution_count": null,
      "outputs": []
    },
    {
      "cell_type": "code",
      "source": [
        "#Code Example for Rotating Pages\n",
        "from PyPDF2 import PdfReader, PdfWriter\n",
        "\n",
        "def rotate_pdf(input_path, output_path, rotation_degrees=90):\n",
        "    reader = PdfReader(input_path)\n",
        "    writer = PdfWriter()\n",
        "    for page_num in range(len(reader.pages)):\n",
        "        page = reader.pages[page_num]\n",
        "        page.rotate(rotation_degrees)\n",
        "        writer.add_page(page)\n",
        "    with open(output_path, 'wb') as output_pdf:\n",
        "        writer.write(output_pdf)\n",
        "\n",
        "# Usage\n",
        "input_path = 'input.pdf'\n",
        "output_path = 'rotated_output.pdf'\n",
        "rotate_pdf(input_path, output_path, 90)"
      ],
      "metadata": {
        "id": "ZDRe2TkZjgvK"
      },
      "execution_count": null,
      "outputs": []
    },
    {
      "cell_type": "code",
      "source": [
        "#Extracting Images from PDFs using PyMuPDF (fitz)\n",
        "\n",
        "import fitz\n",
        "\n",
        "def extract_images(file_path):\n",
        "    pdf_document = fitz.open(file_path)\n",
        "    for page_num in range(len(pdf_document)):\n",
        "        page = pdf_document.load_page(page_num)\n",
        "        images = page.get_images(full=True)\n",
        "        for image_index, img in enumerate(images):\n",
        "            xref = img[0]\n",
        "            base_image = pdf_document.extract_image(xref)\n",
        "            image_bytes = base_image[\"image\"]\n",
        "            image_ext = base_image[\"ext\"]\n",
        "            with open(f\"image{page_num+1}_{image_index}.{image_ext}\", \"wb\") as image_file:\n",
        "            image_file.write(image_bytes)\n",
        "\n",
        "# Usage\n",
        "extract_images('sample.pdf')"
      ],
      "metadata": {
        "id": "5fQU0MmKjmem"
      },
      "execution_count": null,
      "outputs": []
    },
    {
      "cell_type": "code",
      "source": [
        "#Naive Bayes\n",
        "from sklearn.datasets import load_digits\n",
        "from sklearn.naive_bayes import GaussianNB\n",
        "from sklearn.model_selection import train_test_split\n",
        "\n",
        "# Load the digits dataset\n",
        "X, y = load_digits(return_X_y=True)\n",
        "\n",
        "# Split the data into training and testing sets\n",
        "X_train, X_test, y_train, y_test = train_test_split(X, y, test_size=0.2, random_state=42)\n",
        "\n",
        "# Create and train the model\n",
        "model = GaussianNB()\n",
        "model.fit(X_train, y_train)\n",
        "\n",
        "# Make predictions\n",
        "y_pred = model.predict(X_test)\n",
        "\n",
        "print(\"Predictions:\", y_pred)"
      ],
      "metadata": {
        "id": "S_4aYgivju0g"
      },
      "execution_count": null,
      "outputs": []
    },
    {
      "cell_type": "code",
      "source": [],
      "metadata": {
        "id": "eMmSbT6EmEEX"
      },
      "execution_count": null,
      "outputs": []
    }
  ]
}