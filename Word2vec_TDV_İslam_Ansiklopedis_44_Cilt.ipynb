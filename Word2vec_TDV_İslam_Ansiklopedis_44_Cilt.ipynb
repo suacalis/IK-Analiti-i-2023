{
  "cells": [
    {
      "cell_type": "markdown",
      "metadata": {
        "id": "view-in-github",
        "colab_type": "text"
      },
      "source": [
        "<a href=\"https://colab.research.google.com/github/suacalis/IK-Analitigi-2023/blob/main/Word2vec_TDV_I%CC%87slam_Ansiklopedis_44_Cilt.ipynb\" target=\"_parent\"><img src=\"https://colab.research.google.com/assets/colab-badge.svg\" alt=\"Open In Colab\"/></a>"
      ]
    },
    {
      "cell_type": "code",
      "execution_count": null,
      "metadata": {
        "id": "zQz4XoFhZ3UE"
      },
      "outputs": [],
      "source": [
        "import os\n",
        "\n",
        "# Klasör yolunu belirtin\n",
        "klasor_yolu = '/Users/suayyipc/indir/TDV_IslamAnsiklopedisi1-44'\n",
        "\n",
        "# Dosya birleştirme işlemi için hedef dosya adını ve yolunu belirtin\n",
        "hedef_dosya = 'tdv_islam_dosya.txt'\n",
        "\n",
        "# Hedef dosyayı açın ve birleştirme işlemini gerçekleştirin\n",
        "with open(hedef_dosya, 'w') as hedef:\n",
        "    # Klasördeki tüm dosyaları gezin\n",
        "    for dosya_adı in os.listdir(klasor_yolu):\n",
        "        dosya_yolu = os.path.join(klasor_yolu, dosya_adı)\n",
        "        # Sadece metin dosyalarını işleyin\n",
        "        if os.path.isfile(dosya_yolu) and dosya_adı.endswith('.txt'):\n",
        "            # Dosyayı açın ve içeriğini hedef dosyaya yazın\n",
        "            with open(dosya_yolu, 'r') as dosya:\n",
        "                hedef.write(dosya.read())\n",
        "                hedef.write('\\n')  # Her dosya için bir satır boşluk bırakın (isteğe bağlı)"
      ]
    },
    {
      "cell_type": "code",
      "execution_count": 2,
      "metadata": {
        "id": "xT9TqMRQZ3UG"
      },
      "outputs": [],
      "source": [
        "# Specify the file path\n",
        "file_path = '/content/tdv_islam_dosya.txt'\n",
        "\n",
        "# Open the file in read mode\n",
        "with open(file_path, 'r') as file:\n",
        "    # Read the contents of the file\n",
        "    file_contents = file.read()\n",
        "\n",
        "# Print the file contents\n",
        "#print(file_contents)"
      ]
    },
    {
      "cell_type": "code",
      "source": [
        "# Python program to generate word vectors using Word2Vec \n",
        "# importing all necessary modules \n",
        "import nltk\n",
        "import gensim\n",
        "nltk.download('punkt')\n",
        "nltk.download('stopwords')\n",
        "from nltk.corpus import stopwords \n",
        "from nltk.tokenize import sent_tokenize, word_tokenize\n",
        "import warnings \n",
        "warnings.filterwarnings(action = 'ignore') \n",
        "import gensim \n",
        "from gensim.models import Word2Vec \n",
        " \n",
        "stopWords = set(stopwords.words('turkish'))"
      ],
      "metadata": {
        "colab": {
          "base_uri": "https://localhost:8080/"
        },
        "id": "KnzsBHvvitxZ",
        "outputId": "499af8ad-b510-4722-a2de-7f279c0cd042"
      },
      "execution_count": 3,
      "outputs": [
        {
          "output_type": "stream",
          "name": "stderr",
          "text": [
            "[nltk_data] Downloading package punkt to /root/nltk_data...\n",
            "[nltk_data]   Package punkt is already up-to-date!\n",
            "[nltk_data] Downloading package stopwords to /root/nltk_data...\n",
            "[nltk_data]   Package stopwords is already up-to-date!\n"
          ]
        }
      ]
    },
    {
      "cell_type": "code",
      "execution_count": 4,
      "metadata": {
        "id": "v9bsZlV-tu6e"
      },
      "outputs": [],
      "source": [
        "data = [] \n",
        "# iterate through each sentence in the file \n",
        "for w in sent_tokenize(file_contents):\n",
        "    temp = [] \n",
        "    \n",
        "    # tokenize the sentence into words \n",
        "words = word_tokenize(file_contents) \n",
        "for w in words:\n",
        "    if w not in stopWords:\n",
        "        temp.append(w)\n",
        "data.append(temp)"
      ]
    },
    {
      "cell_type": "code",
      "execution_count": 1,
      "metadata": {
        "colab": {
          "base_uri": "https://localhost:8080/",
          "height": 236
        },
        "id": "LGJPZuZnuFTQ",
        "outputId": "6489f36e-a81e-4b73-9244-ca18bbabaabc"
      },
      "outputs": [
        {
          "output_type": "error",
          "ename": "NameError",
          "evalue": "ignored",
          "traceback": [
            "\u001b[0;31m---------------------------------------------------------------------------\u001b[0m",
            "\u001b[0;31mNameError\u001b[0m                                 Traceback (most recent call last)",
            "\u001b[0;32m<ipython-input-1-0e0e477204c8>\u001b[0m in \u001b[0;36m<cell line: 5>\u001b[0;34m()\u001b[0m\n\u001b[1;32m      3\u001b[0m \u001b[0;32mfrom\u001b[0m \u001b[0mwordcloud\u001b[0m \u001b[0;32mimport\u001b[0m \u001b[0mWordCloud\u001b[0m\u001b[0;34m\u001b[0m\u001b[0;34m\u001b[0m\u001b[0m\n\u001b[1;32m      4\u001b[0m \u001b[0mtext\u001b[0m \u001b[0;34m=\u001b[0m \u001b[0;34m[\u001b[0m\u001b[0;34m]\u001b[0m\u001b[0;34m\u001b[0m\u001b[0;34m\u001b[0m\u001b[0m\n\u001b[0;32m----> 5\u001b[0;31m \u001b[0;32mfor\u001b[0m \u001b[0mi\u001b[0m \u001b[0;32min\u001b[0m \u001b[0mdata\u001b[0m\u001b[0;34m:\u001b[0m\u001b[0;34m\u001b[0m\u001b[0;34m\u001b[0m\u001b[0m\n\u001b[0m\u001b[1;32m      6\u001b[0m     \u001b[0mtext\u001b[0m\u001b[0;34m.\u001b[0m\u001b[0mappend\u001b[0m\u001b[0;34m(\u001b[0m\u001b[0mi\u001b[0m\u001b[0;34m)\u001b[0m\u001b[0;34m\u001b[0m\u001b[0;34m\u001b[0m\u001b[0m\n\u001b[1;32m      7\u001b[0m \u001b[0mtext\u001b[0m \u001b[0;34m=\u001b[0m \u001b[0;34m''\u001b[0m\u001b[0;34m.\u001b[0m\u001b[0mjoin\u001b[0m\u001b[0;34m(\u001b[0m\u001b[0mmap\u001b[0m\u001b[0;34m(\u001b[0m\u001b[0mstr\u001b[0m\u001b[0;34m,\u001b[0m \u001b[0mtext\u001b[0m\u001b[0;34m)\u001b[0m\u001b[0;34m)\u001b[0m\u001b[0;34m\u001b[0m\u001b[0;34m\u001b[0m\u001b[0m\n",
            "\u001b[0;31mNameError\u001b[0m: name 'data' is not defined"
          ]
        }
      ],
      "source": [
        "import seaborn as sns\n",
        "import matplotlib.pyplot as plt\n",
        "from wordcloud import WordCloud \n",
        "text = []\n",
        "for i in data:\n",
        "    text.append(i)\n",
        "text = ''.join(map(str, text)) \n",
        "wordcloud = WordCloud(width=40, height=20, max_font_size=12,background_color='white').generate(text)\n",
        "plt.figure(figsize=(20,17))\n",
        "plt.imshow(wordcloud, interpolation='bilinear')\n",
        "plt.axis(\"off\")\n",
        "plt.show()"
      ]
    },
    {
      "cell_type": "code",
      "execution_count": 5,
      "metadata": {
        "id": "SDfmSuyhvDO8"
      },
      "outputs": [],
      "source": [
        "# Create CBOW model \n",
        "modeltdv1 = gensim.models.Word2Vec(data, min_count=1, vector_size=200, window=10, alpha=0.25)"
      ]
    },
    {
      "cell_type": "code",
      "execution_count": 7,
      "metadata": {
        "colab": {
          "base_uri": "https://localhost:8080/"
        },
        "id": "nRy2LynBvXzK",
        "outputId": "3fe00edd-fa0a-4922-9d14-ef83f8e835f4"
      },
      "outputs": [
        {
          "output_type": "stream",
          "name": "stdout",
          "text": [
            "Cosine similarity between 'islam' and 'günah' - CBOW: -0.031860303\n",
            "Cosine similarity between 'islam' and 'sevap' - CBOW: -0.031860303\n"
          ]
        }
      ],
      "source": [
        "print(\"Cosine similarity between 'islam' and 'günah' - CBOW:\",\n",
        "      modeltdv1.wv.similarity('islam', 'günah'))\n",
        "print(\"Cosine similarity between 'islam' and 'sevap' - CBOW:\",\n",
        "      modeltdv1.wv.similarity('islam', 'günah'))\n"
      ]
    },
    {
      "cell_type": "code",
      "execution_count": 8,
      "metadata": {
        "colab": {
          "base_uri": "https://localhost:8080/"
        },
        "id": "Xom6dc0JveXj",
        "outputId": "08c06df2-cdf8-45c4-ea53-6335f8549969"
      },
      "outputs": [
        {
          "output_type": "stream",
          "name": "stdout",
          "text": [
            "Cosine similarity between 'kodlu' ve  'uyarının' - Skip Gram :  -0.013520704\n",
            "Cosine similarity between 'kodlu' ve 'yapıldığı' - Skip Gram :  0.052964542\n"
          ]
        }
      ],
      "source": [
        "# Create Skip Gram model \n",
        "modeltdv2 = gensim.models.Word2Vec(data, min_count=1, vector_size = 300, alpha=0.025, window = 10, sg = 1) \n",
        "# Print results \n",
        "print(\"Cosine similarity between 'kodlu' \" +\n",
        "            \"ve  'uyarının' - Skip Gram : \", \n",
        "    modeltdv2.wv.similarity('günah','sevap')) \n",
        "    \n",
        "print(\"Cosine similarity between 'kodlu' \" +\n",
        "            \"ve 'yapıldığı' - Skip Gram : \", \n",
        "    modeltdv2.wv.similarity('günah','cehennem')) "
      ]
    },
    {
      "cell_type": "code",
      "execution_count": 9,
      "metadata": {
        "colab": {
          "base_uri": "https://localhost:8080/"
        },
        "id": "2DM_932TvsNT",
        "outputId": "0d04bfc2-2071-4e4d-86b9-b0830bd6ff48"
      },
      "outputs": [
        {
          "output_type": "stream",
          "name": "stdout",
          "text": [
            "Kelime ile İlişkili Kelimeler:\n",
            "Duyulara - 0.28568774461746216\n",
            "91.650 - 0.2751893103122711\n",
            "Yîn - 0.27067461609840393\n",
            "Fashu - 0.26648953557014465\n",
            "meditations - 0.26648420095443726\n",
            "öbürünün - 0.260927677154541\n",
            "Kâdâr - 0.2600989043712616\n",
            "Arziyye - 0.2597561180591583\n",
            "^'■ - 0.2551567852497101\n",
            "bezeme - 0.2547305226325989\n"
          ]
        }
      ],
      "source": [
        "# Örnek kelime ilişkileri\n",
        "related_words = modeltdv2.wv.most_similar('melek')\n",
        "print(\"Kelime ile İlişkili Kelimeler:\")\n",
        "for word, score in related_words:\n",
        "    print(word, \"-\", score)\n"
      ]
    },
    {
      "cell_type": "code",
      "execution_count": 10,
      "metadata": {
        "colab": {
          "base_uri": "https://localhost:8080/"
        },
        "id": "07PRm1hTw_mw",
        "outputId": "4f5bc2c2-bacf-42f8-dbd7-58788f7da717"
      },
      "outputs": [
        {
          "output_type": "stream",
          "name": "stdout",
          "text": [
            "Kelime ile İlişkili Kelimeler:\n",
            "Bizans¬ - 0.36761489510536194\n",
            "Topal - 0.3305349051952362\n",
            "ağlamıştı - 0.3246912956237793\n",
            "gelişmekte - 0.3219803273677826\n",
            "ülkesinde¬ - 0.3216066062450409\n",
            "sızdırılarak - 0.3156568109989166\n",
            "İşbâtüT- - 0.31068313121795654\n",
            "Dürnâ - 0.30768778920173645\n",
            "-Ajr- - 0.3027702867984772\n",
            "jlks - 0.300633043050766\n"
          ]
        }
      ],
      "source": [
        "# Örnek kelime ilişkileri\n",
        "related_words = modeltdv1.wv.most_similar('iyilik')\n",
        "print(\"Kelime ile İlişkili Kelimeler:\")\n",
        "for word, score in related_words:\n",
        "    print(word, \"-\", score)\n"
      ]
    },
    {
      "cell_type": "code",
      "execution_count": 11,
      "metadata": {
        "colab": {
          "base_uri": "https://localhost:8080/"
        },
        "id": "LmwetLBIZ3UJ",
        "outputId": "ed7c7201-cfa0-4472-8667-19c08c1122df"
      },
      "outputs": [
        {
          "output_type": "execute_result",
          "data": {
            "text/plain": [
              "[('te', 0.9996785521507263),\n",
              " ('’', 0.9996393322944641),\n",
              " ('Sultan', 0.999617338180542),\n",
              " ('Bâ-', 0.9995611310005188),\n",
              " ('28', 0.9995493292808533),\n",
              " ('Şubat', 0.9995278120040894),\n",
              " ('tekrar', 0.9995033144950867),\n",
              " ('âyan', 0.9994907379150391),\n",
              " ('Nitekim', 0.9994763135910034),\n",
              " ('uygulanan', 0.9994751214981079)]"
            ]
          },
          "metadata": {},
          "execution_count": 11
        }
      ],
      "source": [
        "modeltdv1.wv.most_similar(\"din\")"
      ]
    },
    {
      "cell_type": "code",
      "execution_count": 12,
      "metadata": {
        "colab": {
          "base_uri": "https://localhost:8080/"
        },
        "id": "uvRxyFvgZ3UJ",
        "outputId": "a3dceef1-c800-433f-bd38-fc7fd5ffa4d5"
      },
      "outputs": [
        {
          "output_type": "execute_result",
          "data": {
            "text/plain": [
              "[('cioa', 0.27981773018836975),\n",
              " ('Pekak', 0.2739202380180359),\n",
              " ('989-1054', 0.2657325267791748),\n",
              " ('İnschriiten', 0.2610427141189575),\n",
              " (\"Şavmü't-tetav-\", 0.2605057954788208),\n",
              " ('931/1524-25', 0.255611777305603),\n",
              " ('Attributive', 0.254823237657547),\n",
              " ('kokuları', 0.2501731812953949),\n",
              " ('3279', 0.24996516108512878),\n",
              " ('Yenikiyev', 0.2491937130689621)]"
            ]
          },
          "metadata": {},
          "execution_count": 12
        }
      ],
      "source": [
        "modeltdv2.wv.most_similar(\"peygamber\")"
      ]
    },
    {
      "cell_type": "code",
      "execution_count": 13,
      "metadata": {
        "id": "Yeqr_1LVxDxn"
      },
      "outputs": [],
      "source": [
        "modeltdv1.save(\"tdv1_word2vec.model\")"
      ]
    },
    {
      "cell_type": "code",
      "execution_count": 14,
      "metadata": {
        "id": "mTvX90k8Z3UJ"
      },
      "outputs": [],
      "source": [
        "modeltdv2.save(\"tdv2_word2vec.model\")"
      ]
    },
    {
      "cell_type": "code",
      "execution_count": null,
      "metadata": {
        "id": "dPCfszz0Z3UJ"
      },
      "outputs": [],
      "source": [
        "modeltdv1 = Word2Vec.load(\"tdv1_word2vec.model\")"
      ]
    },
    {
      "cell_type": "code",
      "execution_count": null,
      "metadata": {
        "id": "OISOS_WbZ3UJ"
      },
      "outputs": [],
      "source": [
        "modeltdv2 = Word2Vec.load(\"tdv2_word2vec.model\")"
      ]
    },
    {
      "cell_type": "code",
      "execution_count": null,
      "metadata": {
        "id": "HWfUzrm1Z3UJ"
      },
      "outputs": [],
      "source": [
        "import gensim\n",
        "import numpy as np\n",
        "import matplotlib.pyplot as plt\n",
        "from sklearn.manifold import TSNE\n",
        "\n",
        "# Word2Vec modelini yükleyin\n",
        "model = gensim.models.Word2Vec.load('modelinizin_yolu')\n",
        "\n",
        "# Görselleştirmek istediğiniz kelimeleri belirleyin\n",
        "kelimeler = ['tanrı', 'insan', 'bilim', 'sanat', 'doğa']\n",
        "\n",
        "# Kelime vektörlerini alın\n",
        "kelime_vektörleri = np.array([model.wv[kelime] for kelime in kelimeler])\n",
        "\n",
        "# t-SNE ile boyut indirgeme yapın\n",
        "tsne = TSNE(n_components=2, random_state=42)\n",
        "kelime_vektörleri_2d = tsne.fit_transform(kelime_vektörleri)\n",
        "\n",
        "# Görselleştirme\n",
        "plt.figure(figsize=(8, 6))\n",
        "plt.scatter(kelime_vektörleri_2d[:, 0], kelime_vektörleri_2d[:, 1])\n",
        "for i, kelime in enumerate(kelimeler):\n",
        "    plt.annotate(kelime, (kelime_vektörleri_2d[i, 0], kelime_vektörleri_2d[i, 1]))\n",
        "plt.xlabel('Dimension 1')\n",
        "plt.ylabel('Dimension 2')\n",
        "plt.title('Word2Vec Kelime Görselleştirme')\n",
        "plt.show()\n"
      ]
    },
    {
      "cell_type": "code",
      "execution_count": null,
      "metadata": {
        "id": "qAUAAirqZ3UK"
      },
      "outputs": [],
      "source": [
        "import gensim\n",
        "import numpy as np\n",
        "import matplotlib.pyplot as plt\n",
        "from mpl_toolkits.mplot3d import Axes3D\n",
        "\n",
        "# Word2Vec modelini yükleyin\n",
        "model = gensim.models.Word2Vec.load('modelinizin_yolu')\n",
        "\n",
        "# Görselleştirmek istediğiniz kelimeleri belirleyin\n",
        "kelimeler = ['tanrı', 'insan', 'bilim', 'sanat', 'doğa']\n",
        "\n",
        "# Kelime vektörlerini alın\n",
        "kelime_vektörleri = np.array([model.wv[kelime] for kelime in kelimeler])\n",
        "\n",
        "# 3D grafik için figür oluşturun\n",
        "fig = plt.figure()\n",
        "ax = fig.add_subplot(111, projection='3d')\n",
        "\n",
        "# Her kelimenin 3D koordinatlarını plot edin\n",
        "ax.scatter(kelime_vektörleri[:, 0], kelime_vektörleri[:, 1], kelime_vektörleri[:, 2])\n",
        "\n",
        "# Her kelimenin üzerine etiket yazın\n",
        "for i, kelime in enumerate(kelimeler):\n",
        "    ax.text(kelime_vektörleri[i, 0], kelime_vektörleri[i, 1], kelime_vektörleri[i, 2], kelime)\n",
        "\n",
        "# Eksen etiketlerini ve başlığı ayarlayın\n",
        "ax.set_xlabel('Dimension 1')\n",
        "ax.set_ylabel('Dimension 2')\n",
        "ax.set_zlabel('Dimension 3')\n",
        "ax.set_title('Word2Vec Kelime Görselleştirme')\n",
        "\n",
        "# Grafikleri gösterin\n",
        "plt.show()\n"
      ]
    },
    {
      "cell_type": "code",
      "execution_count": null,
      "metadata": {
        "id": "Cz0G48ABZ3UK"
      },
      "outputs": [],
      "source": [
        "import gensim\n",
        "\n",
        "# Word2Vec modelini yükleyin\n",
        "model = gensim.models.Word2Vec.load('modelinizin_yolu')\n",
        "\n",
        "# En çok geçen kelimeleri alın\n",
        "en_cok_gecenler = modeltdv1.wv.index_to_key[:10]  # İlk 10 kelimeyi almak için\n",
        "\n",
        "# En çok geçen kelimeleri yazdırın\n",
        "print(\"En Çok Geçen Kelimeler:\")\n",
        "for kelime in en_cok_gecenler:\n",
        "    print(kelime)\n"
      ]
    },
    {
      "cell_type": "code",
      "source": [
        "import gensim\n",
        "\n",
        "# Word2Vec modelini yükleyin\n",
        "#model = gensim.models.Word2Vec.load('modelinizin_yolu')\n",
        "\n",
        "# En çok geçen kelimeleri alın\n",
        "en_cok_gecenler = modeltdv1.wv.index_to_key[:150]  # İlk 50 kelimeyi almak için\n",
        "\n",
        "# En çok geçen kelimelerin sayısını gösterin\n",
        "print(\"En Çok Geçen Kelimeler ve Geçme Sayıları:\")\n",
        "for kelime in en_cok_gecenler:\n",
        "    sayi = modeltdv1.wv.get_vecattr(kelime, \"count\")\n",
        "    print(f\"{kelime}: {sayi} kez geçti\")\n",
        "\n"
      ],
      "metadata": {
        "colab": {
          "base_uri": "https://localhost:8080/"
        },
        "id": "HVQyzkq7yfjX",
        "outputId": "284403a0-3038-432d-81e1-ffbe11bdd8b1"
      },
      "execution_count": 26,
      "outputs": [
        {
          "output_type": "stream",
          "name": "stdout",
          "text": [
            "En Çok Geçen Kelimeler ve Geçme Sayıları:\n",
            ",: 2292718 kez geçti\n",
            ".: 1359564 kez geçti\n",
            "’: 855493 kez geçti\n",
            "): 537026 kez geçti\n",
            "(: 527803 kez geçti\n",
            ";: 423068 kez geçti\n",
            "bir: 314165 kez geçti\n",
            "s.: 212345 kez geçti\n",
            "': 201099 kez geçti\n",
            "“: 165888 kez geçti\n",
            "”: 130430 kez geçti\n",
            ":: 104969 kez geçti\n",
            "b.: 102887 kez geçti\n",
            "nin: 82528 kez geçti\n",
            "olarak: 73593 kez geçti\n",
            "in: 71543 kez geçti\n",
            "olan: 71013 kez geçti\n",
            "İbn: 66838 kez geçti\n",
            "'': 64704 kez geçti\n",
            "sonra: 63224 kez geçti\n",
            "a: 62532 kez geçti\n",
            "Bu: 61166 kez geçti\n",
            "İstanbul: 59920 kez geçti\n",
            "İslâm: 54033 kez geçti\n",
            "-: 51643 kez geçti\n",
            "II: 51228 kez geçti\n",
            "Ebû: 47168 kez geçti\n",
            "ın: 45800 kez geçti\n",
            "Ankara: 44038 kez geçti\n",
            "1: 43709 kez geçti\n",
            "göre: 42727 kez geçti\n",
            "I: 40741 kez geçti\n",
            "yer: 40710 kez geçti\n",
            "c: 40266 kez geçti\n",
            "tarafından: 39623 kez geçti\n",
            "nr: 38909 kez geçti\n",
            "Muhammed: 38653 kez geçti\n",
            "iki: 38547 kez geçti\n",
            "‘: 38427 kez geçti\n",
            "e: 37877 kez geçti\n",
            "nşr: 36620 kez geçti\n",
            "Ali: 36359 kez geçti\n",
            "olduğu: 34085 kez geçti\n",
            "Ahmed: 33318 kez geçti\n",
            "Türkiye: 33046 kez geçti\n",
            "ilk: 33003 kez geçti\n",
            "kadar: 32936 kez geçti\n",
            "arasında: 32400 kez geçti\n",
            "nın: 32235 kez geçti\n",
            "ye: 31252 kez geçti\n",
            "i: 30797 kez geçti\n",
            "den: 30770 kez geçti\n",
            "l-: 30493 kez geçti\n",
            "dan: 30337 kez geçti\n",
            "Hz: 30306 kez geçti\n",
            "büyük: 29649 kez geçti\n",
            "bk: 29042 kez geçti\n",
            "Paşa: 28769 kez geçti\n",
            "Diyanet: 28549 kez geçti\n",
            "Vakfı: 28158 kez geçti\n",
            "*: 28067 kez geçti\n",
            "onun: 27589 kez geçti\n",
            "Kahire: 27553 kez geçti\n",
            "birlikte: 27473 kez geçti\n",
            "16: 27199 kez geçti\n",
            "Beyrut: 26830 kez geçti\n",
            "eden: 26460 kez geçti\n",
            "Türk: 25963 kez geçti\n",
            "``: 25813 kez geçti\n",
            "te: 25514 kez geçti\n",
            "c.: 25443 kez geçti\n",
            "adlı: 25363 kez geçti\n",
            "Ansiklopedisi: 25315 kez geçti\n",
            "M.: 25195 kez geçti\n",
            "önemli: 25021 kez geçti\n",
            "üzerine: 24049 kez geçti\n",
            "Osmanlı: 23801 kez geçti\n",
            "a.mlf.: 22965 kez geçti\n",
            "kabul: 22942 kez geçti\n",
            "diğer: 22764 kez geçti\n",
            "III: 22508 kez geçti\n",
            "içinde: 22123 kez geçti\n",
            "TDV: 22023 kez geçti\n",
            "Efendi: 21866 kez geçti\n",
            "İbnü: 21848 kez geçti\n",
            "ilgili: 21063 kez geçti\n",
            "olup: 20762 kez geçti\n",
            "üzere: 20042 kez geçti\n",
            "IV: 19867 kez geçti\n",
            "karşı: 19273 kez geçti\n",
            "ı: 18644 kez geçti\n",
            "aynı: 18610 kez geçti\n",
            "Allah: 18539 kez geçti\n",
            "Ebü: 18526 kez geçti\n",
            "gelen: 18521 kez geçti\n",
            "of: 18242 kez geçti\n",
            "2: 18161 kez geçti\n",
            "ait: 17970 kez geçti\n",
            "etti: 17702 kez geçti\n",
            "edilen: 17519 kez geçti\n",
            "bulunan: 17171 kez geçti\n",
            "Ancak: 17140 kez geçti\n",
            "el-: 17062 kez geçti\n",
            "dair: 17040 kez geçti\n",
            "Mehmed: 16880 kez geçti\n",
            "olduğunu: 16786 kez geçti\n",
            "önce: 16735 kez geçti\n",
            "ka¬: 16710 kez geçti\n",
            "alan: 16501 kez geçti\n",
            "BİBLİYOGRAFYA: 16494 kez geçti\n",
            "çeşitli: 16129 kez geçti\n",
            "son: 15990 kez geçti\n",
            "üç: 15884 kez geçti\n",
            "bütün: 15868 kez geçti\n",
            "Sultan: 15852 kez geçti\n",
            "yeni: 15560 kez geçti\n",
            "ya¬: 15499 kez geçti\n",
            "ta¬: 15454 kez geçti\n",
            "ö: 15403 kez geçti\n",
            "ortaya: 15264 kez geçti\n",
            "on: 15177 kez geçti\n",
            "yılında: 15112 kez geçti\n",
            "ele: 15099 kez geçti\n",
            "Bey: 14852 kez geçti\n",
            "ayrıca: 14831 kez geçti\n",
            "le: 14634 kez geçti\n",
            "Abdullah: 14570 kez geçti\n",
            "ta: 14474 kez geçti\n",
            "ge¬: 14461 kez geçti\n",
            "3: 14429 kez geçti\n",
            "la: 14203 kez geçti\n",
            "yıl: 14190 kez geçti\n",
            "ettiği: 14164 kez geçti\n",
            "un: 14156 kez geçti\n",
            "fi: 14064 kez geçti\n",
            "kendi: 13847 kez geçti\n",
            "eser: 13811 kez geçti\n",
            "na: 13781 kez geçti\n",
            "ler: 13729 kez geçti\n",
            "Kur: 13649 kez geçti\n",
            "V: 13597 kez geçti\n",
            "fî: 13546 kez geçti\n",
            "Mustafa: 13514 kez geçti\n",
            "adıyla: 13435 kez geçti\n",
            "Ktp.: 13363 kez geçti\n",
            "hakkında: 13358 kez geçti\n",
            "olmak: 13329 kez geçti\n",
            "r: 13321 kez geçti\n",
            "ifade: 13300 kez geçti\n",
            "the: 13274 kez geçti\n"
          ]
        }
      ]
    },
    {
      "cell_type": "code",
      "execution_count": 22,
      "metadata": {
        "colab": {
          "base_uri": "https://localhost:8080/"
        },
        "id": "FtqL5l4vZ3UK",
        "outputId": "adb3eca7-7a15-435e-8785-409d502d000c"
      },
      "outputs": [
        {
          "output_type": "stream",
          "name": "stdout",
          "text": [
            "En Çok Geçen Kelimeler:\n",
            ",\n",
            ".\n",
            "’\n",
            ")\n",
            "(\n",
            ";\n",
            "bir\n",
            "s.\n",
            "'\n",
            "“\n",
            "”\n",
            ":\n",
            "b.\n",
            "nin\n",
            "olarak\n",
            "in\n",
            "olan\n",
            "İbn\n",
            "''\n",
            "sonra\n",
            "a\n",
            "Bu\n",
            "İstanbul\n",
            "İslâm\n",
            "-\n",
            "II\n",
            "Ebû\n",
            "ın\n",
            "Ankara\n",
            "1\n",
            "göre\n",
            "I\n",
            "yer\n",
            "c\n",
            "tarafından\n",
            "nr\n",
            "Muhammed\n",
            "iki\n",
            "‘\n",
            "e\n",
            "nşr\n",
            "Ali\n",
            "olduğu\n",
            "Ahmed\n",
            "Türkiye\n",
            "ilk\n",
            "kadar\n",
            "arasında\n",
            "nın\n",
            "ye\n"
          ]
        }
      ],
      "source": [
        "import gensim\n",
        "# En çok geçen kelimeleri alın\n",
        "en_cok_gecenler = modeltdv2.wv.index_to_key[:50]  # İlk 10 kelimeyi almak için\n",
        "\n",
        "# En çok geçen kelimeleri yazdırın\n",
        "print(\"En Çok Geçen Kelimeler:\")\n",
        "for kelime in en_cok_gecenler:\n",
        "    print(kelime)\n"
      ]
    },
    {
      "cell_type": "code",
      "execution_count": 20,
      "metadata": {
        "colab": {
          "base_uri": "https://localhost:8080/"
        },
        "id": "-L3QdXsYZ3UK",
        "outputId": "8b18225d-3fe2-46c1-ecc0-9112b575916d"
      },
      "outputs": [
        {
          "output_type": "stream",
          "name": "stdout",
          "text": [
            "'günah' kelimesi modelde bulunamadı.\n"
          ]
        }
      ],
      "source": [
        "import gensim\n",
        "\n",
        "# Önceden eğitilmiş Word2Vec modelini yükleyin\n",
        "#model = gensim.models.KeyedVectors.load_word2vec_format('path/to/pretrained_model.bin', binary=True)\n",
        "model='modeltdv1'\n",
        "# 'günah' kelimesinin kelime vektörünü alın\n",
        "if 'sevap' in model:\n",
        "    kelime_vektoru = modeltdv1['sevap']\n",
        "    print(\"Kelime Vektörü:\")\n",
        "    print(kelime_vektoru)\n",
        "else:\n",
        "    print(\"'günah' kelimesi modelde bulunamadı.\")\n"
      ]
    },
    {
      "cell_type": "code",
      "execution_count": 15,
      "metadata": {
        "colab": {
          "base_uri": "https://localhost:8080/",
          "height": 381
        },
        "id": "nVTOTSGsZ3UK",
        "outputId": "b20d119e-f0e3-48bc-d437-6bffe228fa2b"
      },
      "outputs": [
        {
          "output_type": "error",
          "ename": "ValueError",
          "evalue": "ignored",
          "traceback": [
            "\u001b[0;31m---------------------------------------------------------------------------\u001b[0m",
            "\u001b[0;31mValueError\u001b[0m                                Traceback (most recent call last)",
            "\u001b[0;32m<ipython-input-15-7fbcecc0b5f6>\u001b[0m in \u001b[0;36m<cell line: 14>\u001b[0;34m()\u001b[0m\n\u001b[1;32m     12\u001b[0m \u001b[0;31m# Boyut indirgeme için PCA uygulayın\u001b[0m\u001b[0;34m\u001b[0m\u001b[0;34m\u001b[0m\u001b[0m\n\u001b[1;32m     13\u001b[0m \u001b[0mpca\u001b[0m \u001b[0;34m=\u001b[0m \u001b[0mPCA\u001b[0m\u001b[0;34m(\u001b[0m\u001b[0mn_components\u001b[0m\u001b[0;34m=\u001b[0m\u001b[0;36m2\u001b[0m\u001b[0;34m)\u001b[0m\u001b[0;34m\u001b[0m\u001b[0;34m\u001b[0m\u001b[0m\n\u001b[0;32m---> 14\u001b[0;31m \u001b[0mkelime_vektoru_2d\u001b[0m \u001b[0;34m=\u001b[0m \u001b[0mpca\u001b[0m\u001b[0;34m.\u001b[0m\u001b[0mfit_transform\u001b[0m\u001b[0;34m(\u001b[0m\u001b[0;34m[\u001b[0m\u001b[0mkelime_vektoru\u001b[0m\u001b[0;34m]\u001b[0m\u001b[0;34m)\u001b[0m\u001b[0;34m\u001b[0m\u001b[0;34m\u001b[0m\u001b[0m\n\u001b[0m\u001b[1;32m     15\u001b[0m \u001b[0;34m\u001b[0m\u001b[0m\n\u001b[1;32m     16\u001b[0m \u001b[0;31m# Grafik oluşturun\u001b[0m\u001b[0;34m\u001b[0m\u001b[0;34m\u001b[0m\u001b[0m\n",
            "\u001b[0;32m/usr/local/lib/python3.10/dist-packages/sklearn/utils/_set_output.py\u001b[0m in \u001b[0;36mwrapped\u001b[0;34m(self, X, *args, **kwargs)\u001b[0m\n\u001b[1;32m    138\u001b[0m     \u001b[0;34m@\u001b[0m\u001b[0mwraps\u001b[0m\u001b[0;34m(\u001b[0m\u001b[0mf\u001b[0m\u001b[0;34m)\u001b[0m\u001b[0;34m\u001b[0m\u001b[0;34m\u001b[0m\u001b[0m\n\u001b[1;32m    139\u001b[0m     \u001b[0;32mdef\u001b[0m \u001b[0mwrapped\u001b[0m\u001b[0;34m(\u001b[0m\u001b[0mself\u001b[0m\u001b[0;34m,\u001b[0m \u001b[0mX\u001b[0m\u001b[0;34m,\u001b[0m \u001b[0;34m*\u001b[0m\u001b[0margs\u001b[0m\u001b[0;34m,\u001b[0m \u001b[0;34m**\u001b[0m\u001b[0mkwargs\u001b[0m\u001b[0;34m)\u001b[0m\u001b[0;34m:\u001b[0m\u001b[0;34m\u001b[0m\u001b[0;34m\u001b[0m\u001b[0m\n\u001b[0;32m--> 140\u001b[0;31m         \u001b[0mdata_to_wrap\u001b[0m \u001b[0;34m=\u001b[0m \u001b[0mf\u001b[0m\u001b[0;34m(\u001b[0m\u001b[0mself\u001b[0m\u001b[0;34m,\u001b[0m \u001b[0mX\u001b[0m\u001b[0;34m,\u001b[0m \u001b[0;34m*\u001b[0m\u001b[0margs\u001b[0m\u001b[0;34m,\u001b[0m \u001b[0;34m**\u001b[0m\u001b[0mkwargs\u001b[0m\u001b[0;34m)\u001b[0m\u001b[0;34m\u001b[0m\u001b[0;34m\u001b[0m\u001b[0m\n\u001b[0m\u001b[1;32m    141\u001b[0m         \u001b[0;32mif\u001b[0m \u001b[0misinstance\u001b[0m\u001b[0;34m(\u001b[0m\u001b[0mdata_to_wrap\u001b[0m\u001b[0;34m,\u001b[0m \u001b[0mtuple\u001b[0m\u001b[0;34m)\u001b[0m\u001b[0;34m:\u001b[0m\u001b[0;34m\u001b[0m\u001b[0;34m\u001b[0m\u001b[0m\n\u001b[1;32m    142\u001b[0m             \u001b[0;31m# only wrap the first output for cross decomposition\u001b[0m\u001b[0;34m\u001b[0m\u001b[0;34m\u001b[0m\u001b[0m\n",
            "\u001b[0;32m/usr/local/lib/python3.10/dist-packages/sklearn/decomposition/_pca.py\u001b[0m in \u001b[0;36mfit_transform\u001b[0;34m(self, X, y)\u001b[0m\n\u001b[1;32m    460\u001b[0m         \u001b[0mself\u001b[0m\u001b[0;34m.\u001b[0m\u001b[0m_validate_params\u001b[0m\u001b[0;34m(\u001b[0m\u001b[0;34m)\u001b[0m\u001b[0;34m\u001b[0m\u001b[0;34m\u001b[0m\u001b[0m\n\u001b[1;32m    461\u001b[0m \u001b[0;34m\u001b[0m\u001b[0m\n\u001b[0;32m--> 462\u001b[0;31m         \u001b[0mU\u001b[0m\u001b[0;34m,\u001b[0m \u001b[0mS\u001b[0m\u001b[0;34m,\u001b[0m \u001b[0mVt\u001b[0m \u001b[0;34m=\u001b[0m \u001b[0mself\u001b[0m\u001b[0;34m.\u001b[0m\u001b[0m_fit\u001b[0m\u001b[0;34m(\u001b[0m\u001b[0mX\u001b[0m\u001b[0;34m)\u001b[0m\u001b[0;34m\u001b[0m\u001b[0;34m\u001b[0m\u001b[0m\n\u001b[0m\u001b[1;32m    463\u001b[0m         \u001b[0mU\u001b[0m \u001b[0;34m=\u001b[0m \u001b[0mU\u001b[0m\u001b[0;34m[\u001b[0m\u001b[0;34m:\u001b[0m\u001b[0;34m,\u001b[0m \u001b[0;34m:\u001b[0m \u001b[0mself\u001b[0m\u001b[0;34m.\u001b[0m\u001b[0mn_components_\u001b[0m\u001b[0;34m]\u001b[0m\u001b[0;34m\u001b[0m\u001b[0;34m\u001b[0m\u001b[0m\n\u001b[1;32m    464\u001b[0m \u001b[0;34m\u001b[0m\u001b[0m\n",
            "\u001b[0;32m/usr/local/lib/python3.10/dist-packages/sklearn/decomposition/_pca.py\u001b[0m in \u001b[0;36m_fit\u001b[0;34m(self, X)\u001b[0m\n\u001b[1;32m    510\u001b[0m         \u001b[0;31m# Call different fits for either full or truncated SVD\u001b[0m\u001b[0;34m\u001b[0m\u001b[0;34m\u001b[0m\u001b[0m\n\u001b[1;32m    511\u001b[0m         \u001b[0;32mif\u001b[0m \u001b[0mself\u001b[0m\u001b[0;34m.\u001b[0m\u001b[0m_fit_svd_solver\u001b[0m \u001b[0;34m==\u001b[0m \u001b[0;34m\"full\"\u001b[0m\u001b[0;34m:\u001b[0m\u001b[0;34m\u001b[0m\u001b[0;34m\u001b[0m\u001b[0m\n\u001b[0;32m--> 512\u001b[0;31m             \u001b[0;32mreturn\u001b[0m \u001b[0mself\u001b[0m\u001b[0;34m.\u001b[0m\u001b[0m_fit_full\u001b[0m\u001b[0;34m(\u001b[0m\u001b[0mX\u001b[0m\u001b[0;34m,\u001b[0m \u001b[0mn_components\u001b[0m\u001b[0;34m)\u001b[0m\u001b[0;34m\u001b[0m\u001b[0;34m\u001b[0m\u001b[0m\n\u001b[0m\u001b[1;32m    513\u001b[0m         \u001b[0;32melif\u001b[0m \u001b[0mself\u001b[0m\u001b[0;34m.\u001b[0m\u001b[0m_fit_svd_solver\u001b[0m \u001b[0;32min\u001b[0m \u001b[0;34m[\u001b[0m\u001b[0;34m\"arpack\"\u001b[0m\u001b[0;34m,\u001b[0m \u001b[0;34m\"randomized\"\u001b[0m\u001b[0;34m]\u001b[0m\u001b[0;34m:\u001b[0m\u001b[0;34m\u001b[0m\u001b[0;34m\u001b[0m\u001b[0m\n\u001b[1;32m    514\u001b[0m             \u001b[0;32mreturn\u001b[0m \u001b[0mself\u001b[0m\u001b[0;34m.\u001b[0m\u001b[0m_fit_truncated\u001b[0m\u001b[0;34m(\u001b[0m\u001b[0mX\u001b[0m\u001b[0;34m,\u001b[0m \u001b[0mn_components\u001b[0m\u001b[0;34m,\u001b[0m \u001b[0mself\u001b[0m\u001b[0;34m.\u001b[0m\u001b[0m_fit_svd_solver\u001b[0m\u001b[0;34m)\u001b[0m\u001b[0;34m\u001b[0m\u001b[0;34m\u001b[0m\u001b[0m\n",
            "\u001b[0;32m/usr/local/lib/python3.10/dist-packages/sklearn/decomposition/_pca.py\u001b[0m in \u001b[0;36m_fit_full\u001b[0;34m(self, X, n_components)\u001b[0m\n\u001b[1;32m    524\u001b[0m                 )\n\u001b[1;32m    525\u001b[0m         \u001b[0;32melif\u001b[0m \u001b[0;32mnot\u001b[0m \u001b[0;36m0\u001b[0m \u001b[0;34m<=\u001b[0m \u001b[0mn_components\u001b[0m \u001b[0;34m<=\u001b[0m \u001b[0mmin\u001b[0m\u001b[0;34m(\u001b[0m\u001b[0mn_samples\u001b[0m\u001b[0;34m,\u001b[0m \u001b[0mn_features\u001b[0m\u001b[0;34m)\u001b[0m\u001b[0;34m:\u001b[0m\u001b[0;34m\u001b[0m\u001b[0;34m\u001b[0m\u001b[0m\n\u001b[0;32m--> 526\u001b[0;31m             raise ValueError(\n\u001b[0m\u001b[1;32m    527\u001b[0m                 \u001b[0;34m\"n_components=%r must be between 0 and \"\u001b[0m\u001b[0;34m\u001b[0m\u001b[0;34m\u001b[0m\u001b[0m\n\u001b[1;32m    528\u001b[0m                 \u001b[0;34m\"min(n_samples, n_features)=%r with \"\u001b[0m\u001b[0;34m\u001b[0m\u001b[0;34m\u001b[0m\u001b[0m\n",
            "\u001b[0;31mValueError\u001b[0m: n_components=2 must be between 0 and min(n_samples, n_features)=1 with svd_solver='full'"
          ]
        }
      ],
      "source": [
        "import gensim\n",
        "import numpy as np\n",
        "import matplotlib.pyplot as plt\n",
        "from sklearn.decomposition import PCA\n",
        "\n",
        "# Word2Vec modelini yükleyin\n",
        "#model = gensim.models.Word2Vec.load('modelinizin_yolu')\n",
        "\n",
        "# \"günah\" kelimesinin kelime vektörünü alın\n",
        "kelime_vektoru = modeltdv1.wv['günah']\n",
        "\n",
        "# Boyut indirgeme için PCA uygulayın\n",
        "pca = PCA(n_components=2)\n",
        "kelime_vektoru_2d = pca.fit_transform([kelime_vektoru])\n",
        "\n",
        "# Grafik oluşturun\n",
        "plt.figure()\n",
        "plt.scatter(kelime_vektoru_2d[:, 0], kelime_vektoru_2d[:, 1])\n",
        "plt.annotate('günah', (kelime_vektoru_2d[0, 0], kelime_vektoru_2d[0, 1]))\n",
        "plt.xlabel('Dimension 1')\n",
        "plt.ylabel('Dimension 2')\n",
        "plt.title('Word2Vec Kelime Görselleştirme')\n",
        "plt.show()\n"
      ]
    },
    {
      "cell_type": "code",
      "source": [
        "import gensim\n",
        "import numpy as np\n",
        "import matplotlib.pyplot as plt\n",
        "from sklearn.decomposition import PCA\n",
        "\n",
        "# Word2Vec modelini yükleyin\n",
        "# model = gensim.models.Word2Vec.load('modelinizin_yolu')\n",
        "\n",
        "# \"günah\" kelimesinin kelime vektörünü alın\n",
        "kelime_vektoru = modeltdv1.wv['günah']\n",
        "\n",
        "# Boyut indirgeme için PCA uygulayın\n",
        "pca = PCA(n_components=1)  # PCA için n_components değerini 1 olarak ayarlayın\n",
        "kelime_vektoru_1d = pca.fit_transform([kelime_vektoru])\n",
        "\n",
        "# Grafik oluşturun\n",
        "plt.figure()\n",
        "plt.scatter(kelime_vektoru_1d[:, 0], [0])\n",
        "plt.annotate('günah', (kelime_vektoru_1d[0, 0], 0))\n",
        "plt.xlabel('Dimension 1')\n",
        "plt.title('Word2Vec Kelime Görselleştirme')\n",
        "plt.show()\n"
      ],
      "metadata": {
        "colab": {
          "base_uri": "https://localhost:8080/",
          "height": 472
        },
        "id": "AoeRFYtkxcbN",
        "outputId": "74bbfed6-0797-43b6-cb0b-6811680490e6"
      },
      "execution_count": 16,
      "outputs": [
        {
          "output_type": "display_data",
          "data": {
            "text/plain": [
              "<Figure size 640x480 with 1 Axes>"
            ],
            "image/png": "[encoded data removed]"
          },
          "metadata": {}
        }
      ]
    }
  ],
  "metadata": {
    "colab": {
      "provenance": [],
      "include_colab_link": true
    },
    "kernelspec": {
      "display_name": "Python 3 (ipykernel)",
      "language": "python",
      "name": "python3"
    },
    "language_info": {
      "codemirror_mode": {
        "name": "ipython",
        "version": 3
      },
      "file_extension": ".py",
      "mimetype": "text/x-python",
      "name": "python",
      "nbconvert_exporter": "python",
      "pygments_lexer": "ipython3",
      "version": "3.10.9"
    }
  },
  "nbformat": 4,
  "nbformat_minor": 0
}